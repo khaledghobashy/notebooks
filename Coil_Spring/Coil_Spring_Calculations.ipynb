{
 "cells": [
  {
   "cell_type": "markdown",
   "metadata": {},
   "source": [
    "# Coil Spring Design for the ASURT-FS17 Vehicle"
   ]
  },
  {
   "cell_type": "markdown",
   "metadata": {
    "slideshow": {
     "slide_type": "slide"
    }
   },
   "source": [
    "### Design Approach"
   ]
  },
  {
   "cell_type": "markdown",
   "metadata": {
    "slideshow": {
     "slide_type": "subslide"
    }
   },
   "source": [
    "The design approach of a coil spring differs greatly with the available inputs and the required parameters. In our case in ASURT-FS we have two different approaches which differs in the required spring parameters:<br\\>\n",
    "- Specified maximum defflection and maximum load.\n",
    "- Specified maximum load and required stiffness.<br\\>\n",
    "\n",
    "We may state the needs of the design as flollows:\n",
    "\n",
    "- The coil should sustain the maximum load with an acceptable safety factor.\n",
    "- The maximum elastic defflection of the spring should exceed the maximum applied defflection with an acceptable value.\n",
    "- The spring should provide the required stifness.\n",
    "- When assembled, the spring should provide a defflection that make the damper in its half stroke.\n",
    "- The spring index should not be less than 3.5.\n",
    "- The spring should be safe for buckling, fatigue, resonance.<br\\>\n",
    "\n",
    "Before breaking down these needs and discuss how can we accomplish them, we have to discuss the coil spring design parameters and how does these parameters affect our needs. This is best shown using a network-like graph:"
   ]
  },
  {
   "cell_type": "markdown",
   "metadata": {
    "slideshow": {
     "slide_type": "subslide"
    }
   },
   "source": [
    "From this illustration we may deduce the high dependency of each parameter on the others.<br\\>\n",
    "Lets start breaking down these needs and how can we achive them.<br\\>\n",
    "\n",
    "**_The coil should sustain the maximum load with an acceptable safety factor._** <br\\>\n",
    "The wire diameter is our output in this case, it can be evaluated using the following equation:<br\\>\n",
    "$$ d=\\sqrt[\\leftroot{0}\\uproot{2}\\scriptstyle 3]{\\frac{8kF_{max}D_m}{\\pi\\tau_{al}}} $$\n",
    "where:<br\\>\n",
    "  - $k$ is the stress-correction factor given by: $ k=\\frac{4c+2}{4c-3} $<br\\>\n",
    "    , where $c$ is the spring index given by: $ c=D_m/d $\n",
    "  - $F_{max}$ is the maximum force applied on the spring including a safety factor about 1.5.\n",
    "  - $D_m$ is the mean diameter of the coil.\n",
    "  - $ \\tau_{al}$ is the allowable shear stress of the wire material which is given by: $ \\tau_{al}=0.45\\sigma_u$.<br\\>\n",
    "\n",
    "From this we note that in order to evaluate the wire diameter $d$ we have to evaluate the $k$ and $c$ factors which are depending on the wire diameter itself.<br\\>\n",
    "This requires making an initial guess of the spring index $c$ within the range $(8-12)$ and setting the value $D_m$ as a fraction of the inner diameter $D_{in}$ - _given from the damper geometry_ - then evaluate the $d$ from eq.1 and checkthe error with the vaule evaluated from $c=D_m/d$ in a **_ trail & error_** manner.<br\\>\n",
    "_This can be captured using a while loop as will be shown in the code implementation._<br\\>\n",
    "<br\\>\n",
    "<br\\>\n",
    "**_The spring should provide the required stifness._**<br\\>\n",
    "The spring stiffness can be evaluated based on the coil geometry by the following equation:<br\\>\n",
    "$$ k_s=\\frac{d^4G}{8D_m^3n} $$\n",
    "where:<br\\>\n",
    "  - $G$ is the shear modulus of rigidity of the coil material.\n",
    "  - $n$ is the number of the active coils.<br\\>\n",
    "    \n",
    "From this equation we can solve for $n$ in order to obtain the required stiffness.<br\\>\n",
    "  _ Note that the stiffness is also a function of the wire diameter $d$ and the mean coil diameter $D_m$.<br\\>\n",
    "We may need ocasionally to adjust the stiffness using these parameters if the required defflection is less than the available as will be discussed later._<br\\>\n",
    "<br\\>\n",
    "<br\\>\n",
    "**_The maximum elastic defflection of the spring should exceed the maximum applied defflection with an acceptable value._**<br\\>\n",
    "\n",
    "\n",
    "Here we should define what do we mean by the _required_ and the _available_ defflections. The required defflection value is the maximum defflection subjected on the spring during operation, where the maximum avaliable defflection is the defflection that the spring can provide without any permanent deformation.<br\\> \n",
    "The spring defflection $y_{max}$ can be evaluated by:\n",
    "$$y_{max}= \\frac{\\pi D_m^2n \\tau_{al}}{kGd}$$\n",
    "\n",
    "\n",
    "**_Remember:Stiffness,Load,Defflection relationship_**<br\\>\n",
    "We can only provide two parameters as requirements as the third one is dependent on the previous two. **_ An illustrative example_**, let's assume we want to design a spring that can sustain a load of 150 kg and provide a stiffness of 80 N/mm. This imply that the available defflection before any plastic deformation equals 18.4 mm. <br\\>\n",
    "**_WHY?!_** <br\\>\n",
    "This is because the defflection here is a function of a two major parameters that are evaluated based on the load and stiffness requirements, the wire diameter $d$ and the active turns $n$. So if we desire a bigger range of defflection this will enforce us to change either of these two parameters which will affect our initial requirements.<br\\>\n",
    "The least affecting change is to increase the load capacity of the coil by increasing the wire diameter $d$ and increasing the number of active turns $n$ to keep the same stiffness value, this will increase our defflection range with least effects on our desired stiffness. A drawback is the increase in wieght of the spring due to the increases in the number of turns and the coil diameter.<br\\>\n",
    "<br\\>\n",
    "<br\\>\n",
    "**_When assembled, the spring should provide a defflection that make the damper in its half stroke._**<br\\>\n",
    "This requirement can be divided into three situations:\n",
    "- $\\delta_{hs}=\\frac{F_{cl}}{k_s}$.\n",
    "- $\\delta_{hs}<\\frac{F_{cl}}{k_s}$.\n",
    "- $\\delta_{hs}>\\frac{F_{cl}}{k_s}$.<br\\>\n",
    "\n",
    "where:\n",
    "  - $\\delta_{hs}$ is the damper half-stroke travel.\n",
    "  - $F_{cl}$ is the corner load of the vehicle applied on the spring _taking into consideration the motion ratio_.\n",
    "  - $k_s$ is the spring stiffness.<br\\>\n",
    "<br\\>\n",
    "\n",
    "In the first case $(\\delta_{hs}=\\frac{F_{cl}}{k_s})$ the static corner load $F_{cl}$ applied on the spring is suffecient to defflect the spring by a value equals to the $\\delta_{hs}$. Therefore, no need for any applied preload -_other than a minimum load that keeps the spring firmly centered withinthe damper between its seats_-.<br\\>\n",
    "\n",
    "In the second case $(\\delta_{hs}<\\frac{F_{cl}}{k_s})$ the static corner load $F_{cl}$ applied on the spring is will result in a larger defflection in the spring than the required $\\delta_{hs}$ which makes the damper having an unequal travel range in jounce and rebound -_in this case it will have more travel in rebound other than that in jounce_-.<br\\>\n",
    "What we need is to achieve the equality as in the first case. This can be captured in an equation form as $\\delta_{hs}=(\\frac{F_{cl}}{k_s})-(\\frac{F_{pl}}{k_s})$. Where $F_{pl}$ is the preload required in the spring to react this excess defflection in the damper. This preload in obtained by defflecting the spring as it is assembled with the damper by a vlaue $\\Delta=F_{pl}$ $/$ $k_s$. --->**_Needs more illustration_**<br\\>\n",
    "In order to solve for this, $\\Delta = (F_{cl}$ $/$ $k_s) - \\delta_{hs}$<br\\>\n",
    "\n",
    "In the third case $(\\delta_{hs}>\\frac{F_{cl}}{k_s})$ the static corner load $F_{cl}$ applied on the spring is not suffecient to defflect the spring by a value equals to the $\\delta_{hs}$. This means that more load is required in order to defflect the spring and the damper together to be in the half stroke position.<br\\>\n",
    "Mathematically, we can follow the same approach in the second case which will lead to $\\Delta =\\delta_{hs} - (F_{cl}$ $/$ $k_s) $ which will leads to a negative defflection **-_extension_-** in the coil spring which is not applicable physically. --->**_Needs more illustration_**<br\\>\n",
    "\n",
    "From this we may conclude that the rquired minimum defflection is given by $y_{req}=2\\delta_{hs}+\\Delta$. <br\\>\n",
    "\n",
    "**_Important note:_** ---> disadvantage of 2nd case and the need of variable pitch to achive variable stiffness behavior.<br\\>\n",
    "<br\\>\n",
    "<br\\>\n"
   ]
  },
  {
   "cell_type": "markdown",
   "metadata": {},
   "source": [
    "## Calculation Steps and Code Implementation."
   ]
  },
  {
   "cell_type": "markdown",
   "metadata": {},
   "source": [
    "### Wire Mterial.\n",
    "According to the manufacturer, the coil is made of a spring steel of **_grade c_** following the standard **DIN 17223-Part 1**.<br\\>\n",
    "The standard sorts the grades by the wire diameters available and its properties. The tensile strength of the material is a function of the wire diameter -_which is wierd_-, as the diameter increases, the tensile strength decreases.<br\\>\n",
    "\n",
    "For grade c, the wire diameters ranges from 2 mm to 20 mm with a variable step. Where the tensile strength ranges from 1160 MPa for the 20 mm diameter to 2200 MPa for the 2 mm diameter.<br\\>\n",
    "\n",
    "An average value of tensile strength was chosen as an initial chocie $\\sigma_{u}=1470 $ MPa. As mentioned before, the allowable shear stress is a fraction of the tensile strength and recomended to be $\\tau_{al}=0.45\\sigma_u =661$ MPa.<br\\>\n",
    "The shear modulus of rigidity $G$ is dependent on the manufacturing process of the coil spring and is specified by the manufacturer as:\n",
    "- $G= 83$ GPa for cold drawn wire.\n",
    "- $G= 80$ GPa for hot drawn wire.<br\\>"
   ]
  },
  {
   "cell_type": "markdown",
   "metadata": {},
   "source": [
    "### Calculating wire diameter $d$.\n",
    "As stated previously, the wire diameter is given by:<br\\>\n",
    "\n",
    "$$ d=\\sqrt[\\leftroot{0}\\uproot{2}\\scriptstyle 3]{\\frac{8kF_{max}D_m}{\\pi\\tau_{al}}} $$\n",
    "\n",
    "Now, we set our initial guess for the $k$ & $c$ factors in order to kick-start our calculation loop.<br\\>\n",
    "\n",
    "Assume the following:\n",
    "- **_Guessd mean diameter_**, ($D_{m.g} = 1.15D_{in}$), where $D_{in}$ is given from the damper geometry.\n",
    "- **_Guessd spring index_**, $c_g=10$, _based on the recommended range (8-12)_.\n",
    "- **_Guessd wire diameter_**, $d_g=D_{m.g}/c_g$.\n",
    "- **_Guessd correction factor_**, $ k_g=\\frac{4c_g+2}{4c_g-3} $<br\\>\n",
    "\n",
    "Now, we evaluate the $d_{c,n}$ from the given equation and re-calculate the following:\n",
    "- **_Calculated mean diameter_**, ($D_{m.c} = d_c+D_{in}$).\n",
    "- **_Calculated spring index_**, $c_c=10$, _based on the recommended range (8-12)_.\n",
    "- **_Calculated  correction factor_**, $ k_c=\\frac{4c_c+2}{4c_c-3} $<br\\>\n",
    "\n",
    "**Note:** _the sup-scripts $(g,c,n)$ refere to guessed, calculated and the iteration step_ <br\\>\n",
    "\n",
    "After each step, we evaluate the error between $d_{c,n}$ and $d_{c,n-1}$, if it is outside our tolerance range we continue the loop, else, we break the loop and take $d=d_{c,n}$ rounded up to the nearest available wire diameter and re-calculate the $k$ and $c$ factors.<br\\>"
   ]
  },
  {
   "cell_type": "markdown",
   "metadata": {},
   "source": [
    "#### This is the piece of code for this purpose:"
   ]
  },
  {
   "cell_type": "raw",
   "metadata": {},
   "source": [
    "cg=8 # Initial guess for spring index (Unitless) \n",
    "kg = ((4*cg)+2)/((4*cg)-3)\n",
    "iic=1.5 # Initial guess for curvature factor (Unitless) \n",
    "dMeanGuess = dInner*(1.15)# Guessed Mean diameter as a multible of the inner coil diameter (m)\n",
    "dWireGuess = dMeanGuess/cg # calculated wire diameter form the spring index (m)\n",
    "dWireCalc = ((kg*8*(spring_force)*dMeanGuess)/(np.pi*tau))**(1/3) # calculated wire diameter\n",
    "\n",
    "# Coil wire diameter calculation\n",
    "itr=0\n",
    "while abs(dWireCalc-dWireGuess)>=0.0000001:\n",
    "    print(itr,dWireGuess,dWireCalc)\n",
    "    dMeanCalc = dWireCalc + dInner #Calculated Mean Diameter (m)\n",
    "    cc = (dMeanCalc/dWireCalc) #calculated spring index\n",
    "    kc = ((4*cc)+2)/((4*cc)-3)\n",
    "    dWireGuess = dMeanCalc/cc \n",
    "    dWireCalc = ((kc*8*(spring_force)*dMeanCalc)/(np.pi*tau))**(1/3)\n",
    "    itr+=1\n",
    "\n",
    "# Rounding wire diameter up and re-evaluating parameters\n",
    "dWireCalc=round_to(dWireCalc,0.0005)\n",
    "dMeanCalc=dInner+dWireCalc\n",
    "cc = (dMeanCalc/dWireCalc)\n",
    "kc = ((4*cc)+2)/((4*cc)-3)"
   ]
  },
  {
   "cell_type": "markdown",
   "metadata": {},
   "source": [
    "### Evaluating the number of active turns based on the required stiffness.\n",
    "\n",
    "Now we calculate the required number of active turns $n_a$ in oerder to obtain the desired stiffness $k_s$ using the equation:\n",
    "$$ n_a=\\frac{d^4G}{8D_m^3k_s} $$\n",
    "This number is then rounded off to a whole number or a number taht is a multiple of 0.5.<br\\>\n",
    "The resulted $k_s$ is then calculated after this rounding."
   ]
  },
  {
   "cell_type": "markdown",
   "metadata": {},
   "source": [
    "### Evaluating required Pre-load $F_{pl}$ and $\\Delta$.\n",
    "$\\Delta = (F_{cl}$ $/$ $k_s) - \\delta_{hs}$ <br\\>\n",
    "$F_{pl} = k_s \\Delta$"
   ]
  },
  {
   "cell_type": "markdown",
   "metadata": {},
   "source": [
    "### Evaluating the maximum srping elastic defflection $y_{max}$\n",
    "\n",
    "Now we calculate the available maximum elastic defflection using the equation:\n",
    "$$y_{max}= \\frac{\\pi D_m^2n \\tau_{al}}{kGd}$$\n",
    "This value is then compared with the required defflection $y_{req}$, where $y_{req}=\\frac{F_{cl}}{k_s}+\\delta_{hs}+\\Delta$.<br\\>"
   ]
  },
  {
   "cell_type": "markdown",
   "metadata": {},
   "source": [
    "### Evaluating the spring length in operation $L_{cp}$, free-length $L$ and pitch $t$.\n",
    "\n",
    "The length of the spring in the loaded condition is found by the formula:\n",
    "$$ L_{cp} = t_{cp}(n_a-2)+d(n_{ic}+1)$$\n",
    "where:\n",
    "- $t_{cp}$ is the pitch in loaded condition. $t_{cp}=d+s$, ($d$ is the wire diameter and $s$ is a minimum clearance between active turns, specified at 0.3 to 1.0 $d$).\n",
    "- $n_{ic}$ is the number of inactive turns. This depends on the ends type. In our case it is takes as 1.5 based on the manufacturer recommendation.<br\\>\n",
    "\n",
    "The free length is then calculated as:\n",
    "$$L=L_{cp}+y_{max} $$"
   ]
  },
  {
   "cell_type": "markdown",
   "metadata": {},
   "source": [
    "### Weight, Resonance, Stability.\n",
    "**_To be ... _**"
   ]
  },
  {
   "cell_type": "markdown",
   "metadata": {},
   "source": [
    "### Code"
   ]
  },
  {
   "cell_type": "code",
   "execution_count": 19,
   "metadata": {
    "collapsed": true
   },
   "outputs": [],
   "source": [
    "import numpy as np\n",
    "from math import ceil\n",
    "import matplotlib.pyplot as plt\n",
    "from mpl_toolkits.mplot3d import Axes3D\n",
    "from collections import OrderedDict"
   ]
  },
  {
   "cell_type": "code",
   "execution_count": 3,
   "metadata": {
    "collapsed": true
   },
   "outputs": [],
   "source": [
    "import ipywidgets as wg\n",
    "from IPython.display import display"
   ]
  },
  {
   "cell_type": "code",
   "execution_count": 4,
   "metadata": {
    "collapsed": false
   },
   "outputs": [],
   "source": [
    "def round_to(n, precision):\n",
    "    correction = 0.5 if n >= 0 else -0.5\n",
    "    return ceil( n/precision) * precision\n",
    "def round_to_05(n):\n",
    "    return round_to(n, 0.05)"
   ]
  },
  {
   "cell_type": "code",
   "execution_count": 14,
   "metadata": {
    "collapsed": false
   },
   "outputs": [
    {
     "name": "stdout",
     "output_type": "stream",
     "text": [
      "0 0.00589375 0.008555677018686484\n",
      "1 0.008555677018686484 0.008881625854934615\n",
      "2 0.008881625854934615 0.008922307365997566\n",
      "3 0.008922307365997566 0.008927372647092043\n",
      "4 0.008927372647092043 0.008928003140410484\n",
      "0.04087500000000001\n",
      "-------------------------------------\n",
      "Wire Diameter (mm)             9.0             \n",
      "-------------------------------------\n",
      "Mean Diameter (mm)             50.0            \n",
      "-------------------------------------\n",
      "Outer Diameter (mm)            59.0            \n",
      "-------------------------------------\n",
      "Number of Active turns         8.51            \n",
      "-------------------------------------\n",
      "Free Length (mm)               142.69          \n",
      "-------------------------------------\n",
      "Pitch (mm)                     14.26           \n",
      "-------------------------------------\n",
      "Load Capacity (kg)             306.39          \n",
      "-------------------------------------\n",
      "Max. Defflection (mm)          46.96           \n",
      "-------------------------------------\n",
      "Actual Stiffness (N/mm)        64.0            \n",
      "-------------------------------------\n",
      "Spring Index                   5.56            \n",
      "-------------------------------------\n",
      "Weight (gm)                    785.14          \n",
      "-------------------------------------\n",
      "Stability Factor               2.85            \n",
      "-------------------------------------\n",
      "Frequency                      22.72           \n",
      "-------------------------------------\n"
     ]
    }
   ],
   "source": [
    "# parameters\n",
    "\n",
    "sigma=1470 # Ultimate tensile strength (MPa)\n",
    "tau=sigma*0.45*10**6 # Allowable shear stress (Pa)\n",
    "G=83*10**9 #Shear modulus of rigidity (Pa)\n",
    "iic=1.5 #inactive turns\n",
    "#===============================================================#\n",
    "mr=0.6 #motion ratio\n",
    "wheel_load=150 #kg\n",
    "corner_load=80 #kg\n",
    "F_cl=(corner_load*9.81)/mr\n",
    "safety_factor=1.2\n",
    "spring_force=safety_factor*(wheel_load*(9.81/mr)) #N\n",
    "damper_defflection=30*10**-3 # damper stroke\n",
    "#lf=145*10**-3 # spring free length\n",
    "dInner=41*10**-3 #(m) spring inner diameter\n",
    "stiffReq=64000 #(N/m)\n",
    "\n",
    "#===============================================================#\n",
    "#===============================================================#\n",
    "cg=8 # Initial guess for spring index (Unitless) \n",
    "kg = ((4*cg)+2)/((4*cg)-3)\n",
    "dMeanGuess = dInner*(1.15)# Guessed Mean diameter as a multible of the inner coil diameter (m)\n",
    "dWireGuess = dMeanGuess/cg # calculated wire diameter form the spring index (m)\n",
    "dWireCalc = ((kg*8*(spring_force)*dMeanGuess)/(np.pi*tau))**(1/3) # calculated wire diameter\n",
    "\n",
    "# Coil wire diameter calculation\n",
    "itr=0\n",
    "while abs(dWireCalc-dWireGuess)>=0.0000001:\n",
    "    print(itr,dWireGuess,dWireCalc)\n",
    "    dMeanCalc = dWireCalc + dInner #Calculated Mean Diameter (m)\n",
    "    cc = (dMeanCalc/dWireCalc) #calculated spring index\n",
    "    kc = ((4*cc)+2)/((4*cc)-3)\n",
    "    dWireGuess = dMeanCalc/cc \n",
    "    dWireCalc = ((kc*8*(spring_force)*dMeanCalc)/(np.pi*tau))**(1/3)\n",
    "    itr+=1\n",
    "\n",
    "# Rounding wire diameter up and re-evaluating parameters\n",
    "dWireCalc=round_to(dWireCalc,0.0005)\n",
    "dMeanCalc=dInner+dWireCalc\n",
    "cc = (dMeanCalc/dWireCalc)\n",
    "kc = ((4*cc)+2)/((4*cc)-3)\n",
    "#===============================================================#\n",
    "#===============================================================#\n",
    "# Calculating the number of active coils based on the required stiffness.\n",
    "i=(dWireCalc**4*G)/(8*dMeanCalc**3*stiffReq) # Active Coils\n",
    "#i=round(i)\n",
    "\n",
    "actualLoad=(np.pi*dWireCalc**3*tau)/(8*kc*dMeanCalc)\n",
    "actualDeff = (np.pi*dMeanCalc**2*i*tau)/(kc*G*dWireCalc)\n",
    "stiffCalc = (dWireCalc**4*G)/(8*dMeanCalc**3*i)\n",
    "#===============================================================#\n",
    "#===============================================================#\n",
    "t_cp=1.25*dWireCalc # pitch of active turns at loaded condition\n",
    "l_cp=(t_cp*(i-2))+(dWireCalc*(iic+1)) # length at loaded condition\n",
    "lf=l_cp+actualDeff # free length\n",
    "t=lf/(i+iic) # free pitch\n",
    "\n",
    "delta=(F_cl/stiffCalc)-(damper_defflection/2) # required defflection for preload\n",
    "y_req=(F_cl/stiffCalc)+delta+(damper_defflection/2) # total required defflection\n",
    "#===============================================================#\n",
    "#===============================================================#\n",
    "\n",
    "if actualDeff<damper_defflection:\n",
    "    print('Extending the allowable defflection')\n",
    "    while actualDeff<damper_defflection:\n",
    "        i=i+0.5\n",
    "        actualDeff = (np.pi*dMeanCalc**2*i*tau)/(kc*G*dWireCalc)\n",
    "\n",
    "\n",
    "\n",
    "# Re-evaluating after the adjustments\n",
    "dWireCalc=round_to(dWireCalc,0.0005)\n",
    "dMeanCalc=dInner+dWireCalc\n",
    "cc = (dMeanCalc/dWireCalc)\n",
    "kc = ((4*cc)+2)/((4*cc)-3)\n",
    "actualLoad=(np.pi*dWireCalc**3*tau)/(8*kc*dMeanCalc)\n",
    "actualDeff = (np.pi*dMeanCalc**2*i*tau)/(kc*G*dWireCalc)\n",
    "stiffCalc = (dWireCalc**4*G)/(8*dMeanCalc**3*i)\n",
    "\n",
    "#===============================================================#\n",
    "#===============================================================#\n",
    "area=np.pi*(dWireCalc**2/4)\n",
    "length=np.pi*dMeanCalc*(i+iic)\n",
    "volume=area*length\n",
    "weight=(7.85*10**3)*volume # (gm)\n",
    "frequency = (0.5*(2*np.pi)**-1)*np.sqrt(stiffCalc/weight) #Hz\n",
    "stability = lf/dMeanCalc # should be <5\n",
    "\n",
    "output=OrderedDict([('Wire Diameter (mm)',dWireCalc*10**3),('Mean Diameter (mm)',dMeanCalc*10**3),\n",
    "        ('Outer Diameter (mm)',(dMeanCalc+dWireCalc)*10**3),('Number of Active turns',i),('Free Length (mm)',lf*10**3),\n",
    "        ('Pitch (mm)',t*10**3),('Load Capacity (kg)',actualLoad/9.81),('Max. Defflection (mm)',actualDeff*10**3),\n",
    "        ('Actual Stiffness (N/mm)',stiffCalc*10**-3),('Spring Index',cc),('Weight (gm)',weight*10**3),\n",
    "        ('Stability Factor',stability),('Frequency',frequency)])\n",
    "\n",
    "print(\"-------------------------------------\")\n",
    "for k,v in output.items():\n",
    "    print(\"{:<30} {:<15} \".format(k,round(v,2)))\n",
    "    print(\"-------------------------------------\")"
   ]
  },
  {
   "cell_type": "code",
   "execution_count": 36,
   "metadata": {
    "collapsed": false
   },
   "outputs": [
    {
     "data": {
      "image/png": "[encoded data removed]",
      "text/plain": [
       "<matplotlib.figure.Figure at 0x1ac88809278>"
      ]
     },
     "metadata": {},
     "output_type": "display_data"
    }
   ],
   "source": [
    "d=np.arange(2e-3,10e-3,0.5e-3)\n",
    "G=83e9\n",
    "d_m=59e-3\n",
    "n=np.arange(2,10,0.5)\n",
    "k_d = (d**4*G)/(8*d_m**3*8)\n",
    "k_n = (0.009**4*G)/(8*d_m**3*n)\n",
    "plt.plot(d*10**3,k_d*10**-3)\n",
    "plt.plot(n,k_n*10**-3)\n",
    "plt.grid()\n",
    "plt.show()"
   ]
  },
  {
   "cell_type": "code",
   "execution_count": 5,
   "metadata": {
    "collapsed": false
   },
   "outputs": [],
   "source": [
    "# parameters\n",
    "\n",
    "def Calculator(mr,wheel_load,lf,dInner,damper_defflection,sigma):\n",
    "    #sigma=1470 # Ultimate tensile strength (MPa)\n",
    "    tau=sigma*0.45*10**6 # Allowable shear stress (Pa)\n",
    "    G=83*10**9 #Shear modulus of rigidity (Pa)\n",
    "    #mr=0.6 #motion ratio\n",
    "    #wheel_load=150 #kg\n",
    "    spring_force=wheel_load*(9.81/mr) #N\n",
    "    #damper_defflection=30*10**-3 # damper stroke\n",
    "    #lf=145*10**-3 # spring free length\n",
    "    #dInner=41*10**-3 #(m) spring inner diameter\n",
    "    stiffReq=spring_force/damper_defflection #(N/m)\n",
    "\n",
    "\n",
    "    cg=8 # Initial guess for spring index (Unitless) \n",
    "    kg = ((4*cg)+2)/((4*cg)-3)\n",
    "    iic=1.5 # Initial guess for curvature factor (Unitless) \n",
    "    dMeanGuess = dInner*(1.15)# Guessed Mean diameter as a multible of the inner coil diameter (m)\n",
    "    dWireGuess = dMeanGuess/cg # calculated wire diameter form the spring index (m)\n",
    "    dWireCalc = ((kg*8*(spring_force)*dMeanGuess)/(np.pi*tau))**(1/3) # calculated wire diameter\n",
    "    #print(kg,dMeanGuess,dWireGuess,dWireCalc)\n",
    "\n",
    "\n",
    "    # Coil wire diameter calculation\n",
    "    itr=0\n",
    "    while abs(dWireCalc-dWireGuess)>=0.0000001:\n",
    "        dMeanCalc = dWireCalc + dInner #Calculated Mean Diameter (m)\n",
    "        cc = (dMeanCalc/dWireCalc) #calculated spring index\n",
    "        kc = ((4*cc)+2)/((4*cc)-3)\n",
    "        dWireGuess = dMeanCalc/cc \n",
    "        dWireCalc = ((kg*8*(spring_force)*dMeanCalc)/(np.pi*tau))**(1/3)\n",
    "        itr+=1\n",
    "\n",
    "    # Rounding wire diameter up and re-evaluating parameters\n",
    "    dWireCalc=round_to(dWireCalc,0.0005)\n",
    "    dMeanCalc=dInner+dWireCalc\n",
    "    cc = (dMeanCalc/dWireCalc)\n",
    "    kc = ((4*cc)+2)/((4*cc)-3)\n",
    "\n",
    "    # Calculating the appropriate pitch based on the desired stiffness \n",
    "    # and the desired free length\n",
    "    i=round((dWireCalc**4*G)/(8*dMeanCalc**3*stiffReq)) # Active Coils\n",
    "    t=lf/(i+1.5) # free pitch\n",
    "    t_req=0.45*(dMeanCalc+dWireCalc)\n",
    "\n",
    "    actualLoad=(np.pi*dWireCalc**3*tau)/(8*kc*dMeanCalc)\n",
    "    actualDeff = (np.pi*dMeanCalc**2*i*tau)/(kc*G*dWireCalc)\n",
    "    stiffCalc = (dWireCalc**4*G)/(8*dMeanCalc**3*i)\n",
    "\n",
    "    if actualDeff<damper_defflection:\n",
    "        #print('Extending the allowable defflection')\n",
    "        while actualDeff<damper_defflection:\n",
    "            i=i+0.5\n",
    "            actualDeff = (np.pi*dMeanCalc**2*i*tau)/(kc*G*dWireCalc)\n",
    "\n",
    "    if t>t_req:\n",
    "        #print(\"Adjusting pitch\")\n",
    "        itr2=0\n",
    "        while t>t_req:\n",
    "            dWireCalc=dWireCalc+(0.5*10**-3)\n",
    "            dMeanCalc=dInner+dWireCalc\n",
    "            i=round_to((dWireCalc**4*G)/(8*dMeanCalc**3*stiffReq),0.5)\n",
    "            t=lf/(i+1.5)\n",
    "            t_req=0.45*(dMeanCalc+dWireCalc)\n",
    "            itr2+=1\n",
    "\n",
    "    # Re-evaluating after the adjustments\n",
    "    dWireCalc=round_to(dWireCalc,0.0005)\n",
    "    dMeanCalc=dInner+dWireCalc\n",
    "    cc = (dMeanCalc/dWireCalc)\n",
    "    kc = ((4*cc)+2)/((4*cc)-3)\n",
    "    actualLoad=(np.pi*dWireCalc**3*tau)/(8*kc*dMeanCalc)\n",
    "    actualDeff = (np.pi*dMeanCalc**2*i*tau)/(kc*G*dWireCalc)\n",
    "    stiffCalc = (dWireCalc**4*G)/(8*dMeanCalc**3*i)\n",
    "\n",
    "    area=np.pi*(dWireCalc**2/4)\n",
    "    length=np.pi*dMeanCalc*(i+iic)\n",
    "    volume=area*length\n",
    "    weight=(7.85*10**3)*volume # (gm)\n",
    "    frequency = (0.5*(2*np.pi)**-1)*np.sqrt(stiffCalc/weight) #Hz\n",
    "    stability = lf/dMeanCalc # should be <5\n",
    "\n",
    "    output=OrderedDict([('Wire Diameter (mm)',dWireCalc*10**3),('Mean Diameter (mm)',dMeanCalc*10**3),\n",
    "            ('Outer Diameter (mm)',(dMeanCalc+dWireCalc)*10**3),('Free Length (mm)',lf*10**3),\n",
    "            ('Pitch (mm)',t*10**3),('Load Capacity (kg)',actualLoad/9.81),('Max. Defflection (mm)',actualDeff*10**3),\n",
    "            ('Actual Stiffness (N/mm)',stiffCalc*10**-3),('Spring Index',cc),('Weight (gm)',weight*10**3),\n",
    "            ('Stability Factor',stability),('Frequency',frequency)])\n",
    "\n",
    "    print(\"-------------------------------------\")\n",
    "    for k,v in output.items():\n",
    "        print(\"{:<30} {:<15} \".format(k,round(v,2)))\n",
    "        print(\"-------------------------------------\")"
   ]
  },
  {
   "cell_type": "code",
   "execution_count": 6,
   "metadata": {
    "collapsed": false
   },
   "outputs": [
    {
     "name": "stdout",
     "output_type": "stream",
     "text": [
      "-------------------------------------\n",
      "Wire Diameter (mm)             8.5             \n",
      "-------------------------------------\n",
      "Mean Diameter (mm)             49.5            \n",
      "-------------------------------------\n",
      "Outer Diameter (mm)            58.0            \n",
      "-------------------------------------\n",
      "Free Length (mm)               140.0           \n",
      "-------------------------------------\n",
      "Pitch (mm)                     21.54           \n",
      "-------------------------------------\n",
      "Load Capacity (kg)             263.59          \n",
      "-------------------------------------\n",
      "Max. Defflection (mm)          31.85           \n",
      "-------------------------------------\n",
      "Actual Stiffness (N/mm)        81.19           \n",
      "-------------------------------------\n",
      "Spring Index                   5.82            \n",
      "-------------------------------------\n",
      "Weight (gm)                    484.9           \n",
      "-------------------------------------\n",
      "Stability Factor               2.83            \n",
      "-------------------------------------\n",
      "Frequency                      32.56           \n",
      "-------------------------------------\n"
     ]
    }
   ],
   "source": [
    "wg.interact(Calculator,mr=wg.FloatSlider(min=0.3,max=1.1,value=0.6,step=0.01),\n",
    "                       wheel_load=wg.IntSlider(min=75,max=160,value=150,step=5),\n",
    "                       lf=wg.FloatSlider(min=130*10**-3,max=160*10**-3,value=140*10**-3,step=1*10**-3),\n",
    "                       dInner=wg.FloatSlider(min=30*10**-3,max=60*10**-3,value=41*10**-3,step=1*10**-3),\n",
    "                        damper_defflection=wg.FloatSlider(min=20*10**-3,max=70*10**-3,value=30*10**-3,step=1*10**-3),\n",
    "                        sigma=wg.FloatSlider(min=1300,max=1700,value=1470,step=10));"
   ]
  },
  {
   "cell_type": "code",
   "execution_count": null,
   "metadata": {
    "collapsed": true
   },
   "outputs": [],
   "source": []
  }
 ],
 "metadata": {
  "kernelspec": {
   "display_name": "Python 3",
   "language": "python",
   "name": "python3"
  },
  "language_info": {
   "codemirror_mode": {
    "name": "ipython",
    "version": 3
   },
   "file_extension": ".py",
   "mimetype": "text/x-python",
   "name": "python",
   "nbconvert_exporter": "python",
   "pygments_lexer": "ipython3",
   "version": "3.6.0"
  }
 },
 "nbformat": 4,
 "nbformat_minor": 0
}
